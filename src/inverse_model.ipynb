{
 "cells": [
  {
   "cell_type": "code",
   "execution_count": 1,
   "metadata": {},
   "outputs": [],
   "source": [
    "from utils import load_facts, load_index, unserialize\n",
    "import itertools\n",
    "import functools\n",
    "import statistics\n",
    "import os\n",
    "from evaluation import hitRatio, MAP\n",
    "import random"
   ]
  },
  {
   "cell_type": "code",
   "execution_count": 2,
   "metadata": {},
   "outputs": [],
   "source": [
    "dataset = \"Wiki\"\n",
    "base_directory = os.path.join(\"/home/duzx16/data/\", dataset, \"data\")"
   ]
  },
  {
   "cell_type": "code",
   "execution_count": 3,
   "metadata": {},
   "outputs": [],
   "source": [
    "fact_data = load_facts(os.path.join(base_directory, \"train.txt\"))\n",
    "valid_support = load_facts(os.path.join(base_directory, \"valid_support.txt\"))\n",
    "valid_evaluate = load_facts(os.path.join(base_directory, \"valid_eval.txt\"))\n",
    "test_support = load_facts(os.path.join(base_directory, \"test_support.txt\"))\n",
    "test_evaluate = load_facts(os.path.join(base_directory, \"test_eval.txt\"))\n",
    "rel2candidate = unserialize(os.path.join(base_directory, \"rel2candidates.json\"))\n"
   ]
  },
  {
   "cell_type": "code",
   "execution_count": 4,
   "metadata": {},
   "outputs": [],
   "source": [
    "fact_dict = {}\n",
    "for head, rel, tail in fact_data:\n",
    "    if head not in fact_dict:\n",
    "        fact_dict[head] = []\n",
    "    fact_dict[head].append((rel, tail))"
   ]
  },
  {
   "cell_type": "code",
   "execution_count": 98,
   "metadata": {},
   "outputs": [
    {
     "data": {
      "text/plain": [
       "{'concept:parentofperson': {'concept:fatherofperson'},\n",
       " 'concept:politicalgroupofpoliticianus': set(),\n",
       " 'concept:bankbankincountry': {'concept:hasofficeincountry'},\n",
       " 'concept:cityalsoknownas': set(),\n",
       " 'concept:sportusesstadium': set(),\n",
       " 'concept:sportsgamesport': set(),\n",
       " 'concept:automobilemakerdealersincity': set(),\n",
       " 'concept:athleteinjuredhisbodypart': set(),\n",
       " 'concept:geopoliticallocationresidenceofpersion': set(),\n",
       " 'concept:politicianusendorsespoliticianus': set(),\n",
       " 'concept:animalsuchasinvertebrate': set(),\n",
       " 'concept:sportschoolincountry': {'concept:sportfansincountry'},\n",
       " 'concept:agriculturalproductcamefromcountry': set(),\n",
       " 'concept:automobilemakerdealersincountry': set(),\n",
       " 'concept:teamcoach': {'concept:athleteledsportsteam_inv'},\n",
       " 'concept:producedby': set()}"
      ]
     },
     "execution_count": 98,
     "metadata": {},
     "output_type": "execute_result"
    }
   ],
   "source": [
    "relation_rules"
   ]
  },
  {
   "cell_type": "code",
   "execution_count": 5,
   "metadata": {},
   "outputs": [
    {
     "name": "stdout",
     "output_type": "stream",
     "text": [
      "Q205028 P3275 Q347111\n",
      "[]\n",
      "Q27 P122 Q7270\n",
      "[]\n",
      "Q47402474 P4608 Q45833077\n",
      "[]\n",
      "Q12384 P479 Q178805\n",
      "[]\n",
      "Q105439 P2695 Q302745\n",
      "[]\n",
      "Q5471 P3174 Q1602856\n",
      "[]\n",
      "Q11989 P870 Q131186\n",
      "[]\n",
      "Q29 P85 Q130940\n",
      "[('P17_inv', 'Q130940')]\n",
      "Q12004 P1672 Q2075708\n",
      "[('P1582_inv', 'Q2075708')]\n",
      "Q545449 P790 Q464135\n",
      "[]\n",
      "Q642 P1434 Q1088263\n",
      "[('P1445_inv', 'Q1088263')]\n",
      "Q2008 P2848 Q1543615\n",
      "[]\n",
      "Q15031 P66 Q127137\n",
      "[]\n",
      "Q27 P2936 Q1860\n",
      "[]\n",
      "Q27334370 P4510 Q733115\n",
      "[]\n",
      "Q26 P208 Q2665914\n",
      "[]\n",
      "Q12214 P689 Q5\n",
      "[]\n",
      "Q5471 P2388 Q47093168\n",
      "[]\n",
      "Q56024 P2389 Q154797\n",
      "[]\n",
      "Q20959 P1462 Q15028\n",
      "[]\n",
      "Q43689 P511 Q192499\n",
      "[]\n",
      "Q1040 P2872 Q27960284\n",
      "[('P131_inv', 'Q27960284')]\n",
      "Q27 P2852 Q1061257\n",
      "[]\n",
      "Q289278 P748 Q337579\n",
      "[]\n",
      "Q597401 P3150 Q2332\n",
      "[]\n",
      "Q194 P397 Q193\n",
      "[('P398_inv', 'Q193')]\n",
      "Q380313 P805 Q2654422\n",
      "[]\n",
      "Q11085 P780 Q223907\n",
      "[]\n",
      "Q38909 P833 Q685952\n",
      "[]\n",
      "Q11473 P2578 Q44432\n",
      "[]\n",
      "Q6612 P1049 Q855270\n",
      "[]\n",
      "Q601397 P3015 Q446720\n",
      "[]\n",
      "Q163844 P1809 Q310184\n",
      "[]\n",
      "Q52954 P1535 Q1075651\n",
      "[('P2283_inv', 'Q1075651'), ('P425_inv', 'Q1075651')]\n",
      "Q8143 P542 Q271023\n",
      "[]\n",
      "Q14420 P2517 Q9130746\n",
      "[]\n",
      "Q743 P189 Q29\n",
      "[]\n",
      "Q38798 P1414 Q189464\n",
      "[]\n",
      "Q104770 P634 Q683530\n",
      "[]\n",
      "Q3533694 P3497 Q2260964\n",
      "[]\n",
      "Q22696468 P3496 Q22342465\n",
      "[]\n",
      "Q27 P2633 Q3338414\n",
      "[]\n",
      "Q480 P872 Q3187850\n",
      "[]\n",
      "Q193170 P248 Q301336\n",
      "[]\n",
      "Q3557985 P2881 Q312429\n",
      "[]\n",
      "Q2311 P1830 Q884087\n",
      "[]\n",
      "Q6661 P2341 Q142\n",
      "[]\n",
      "Q13164 P1075 Q2622956\n",
      "[('P108_inv', 'Q2622956')]\n",
      "Q27 P35 Q57276\n",
      "[]\n",
      "Q11266 P1073 Q3596397\n",
      "[]\n"
     ]
    }
   ],
   "source": [
    "relation_rules = {}\n",
    "for shead, srel, stail in itertools.chain(valid_support, test_support):\n",
    "    if srel not in relation_rules:\n",
    "        relation_rules[srel] = set()\n",
    "    print(shead, srel, stail)\n",
    "    edges = [(rel, tail) for rel, tail in fact_dict[shead] if tail == stail]\n",
    "    print(edges)\n",
    "    relation_rules[srel] |= set(map(lambda x:x[0], edges))"
   ]
  },
  {
   "cell_type": "code",
   "execution_count": 6,
   "metadata": {},
   "outputs": [],
   "source": [
    "metric_dict = {\n",
    "    \"HIT@1\": functools.partial(hitRatio, topn=1),\n",
    "    \"HIT@3\": functools.partial(hitRatio, topn=3),\n",
    "    \"HIT@5\": functools.partial(hitRatio, topn=5),\n",
    "    \"HIT@10\": functools.partial(hitRatio, topn=10)\n",
    "}"
   ]
  },
  {
   "cell_type": "code",
   "execution_count": 7,
   "metadata": {},
   "outputs": [],
   "source": [
    "rel2candidate = {key: set(value) for key, value in rel2candidate.items()}"
   ]
  },
  {
   "cell_type": "code",
   "execution_count": 14,
   "metadata": {},
   "outputs": [],
   "source": [
    "elrel2_e2 = {}\n",
    "for head, rel, tail in itertools.chain(test_support, test_evaluate):\n",
    "    if (head, rel) not in elrel2_e2:\n",
    "        elrel2_e2[(head, rel)] = set()\n",
    "    elrel2_e2[(head, rel)].add(tail)"
   ]
  },
  {
   "cell_type": "code",
   "execution_count": 24,
   "metadata": {},
   "outputs": [],
   "source": [
    "scores = {key: [] for key in metric_dict}\n",
    "for head, rel, tail in test_evaluate:\n",
    "    result = set()\n",
    "    for erel, etail in fact_dict[head]:\n",
    "        if erel in relation_rules[rel]:\n",
    "            result.add(etail)\n",
    "    result = result & (rel2candidate[rel] | set([tail]))\n",
    "    spare_entities = elrel2_e2.get((head, rel), set()) - set([tail])\n",
    "    result = result - spare_entities\n",
    "    result = list(result)\n",
    "    random.shuffle(result)\n",
    "    if len(result) < 10:\n",
    "        candidates = rel2candidate[rel] - set(result) - spare_entities\n",
    "        result += random.sample(candidates, 10 - len(result))\n",
    "    ground = set([tail])\n",
    "    for key, metric in metric_dict.items():\n",
    "        scores[key].append(metric(ground, result))"
   ]
  },
  {
   "cell_type": "code",
   "execution_count": 23,
   "metadata": {},
   "outputs": [
    {
     "name": "stdout",
     "output_type": "stream",
     "text": [
      "HIT@1 0.06717081850533808\n",
      "HIT@3 0.06817170818505339\n",
      "HIT@5 0.06828291814946619\n",
      "HIT@10 0.06883896797153025\n"
     ]
    }
   ],
   "source": [
    "for key, value in scores.items():\n",
    "    print(key, statistics.mean(value))"
   ]
  }
 ],
 "metadata": {
  "kernelspec": {
   "display_name": "Python 3",
   "language": "python",
   "name": "python3"
  },
  "language_info": {
   "codemirror_mode": {
    "name": "ipython",
    "version": 3
   },
   "file_extension": ".py",
   "mimetype": "text/x-python",
   "name": "python",
   "nbconvert_exporter": "python",
   "pygments_lexer": "ipython3",
   "version": "3.6.9"
  }
 },
 "nbformat": 4,
 "nbformat_minor": 2
}
